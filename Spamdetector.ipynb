{
  "cells": [
    {
      "cell_type": "markdown",
      "source": [
        "Write Python code to implement Logistic Regression Model for Spam detection."
      ],
      "metadata": {
        "id": "6Fh4qyYG0GpA"
      }
    },
    {
      "cell_type": "markdown",
      "source": [
        "**CODE**"
      ],
      "metadata": {
        "id": "WV4XiBeR73Wf"
      }
    },
    {
      "cell_type": "code",
      "source": [
        "# Importing Required Libraries\n",
        "import numpy as np\n",
        "import pandas as pd\n",
        "from sklearn.model_selection import train_test_split\n",
        "from sklearn.feature_extraction.text import TfidfVectorizer\n",
        "from sklearn.linear_model import LogisticRegression\n",
        "from sklearn.metrics import accuracy_score\n",
        "from sklearn.utils.class_weight import compute_class_weight\n",
        "\n",
        "# Load the data\n",
        "raw_mail_data = pd.read_csv('/content/mail_data.csv', encoding='latin-1')\n",
        "\n",
        "# Replace null values with an empty string\n",
        "mail_data = raw_mail_data.where(pd.notnull(raw_mail_data), '')\n",
        "\n",
        "# Label encoding: spam -> 0, ham -> 1\n",
        "mail_data['Category'] = mail_data['Category'].map({'spam': 0, 'ham': 1})\n",
        "\n",
        "# Drop rows where 'Category' is NaN\n",
        "mail_data = mail_data.dropna(subset=['Category'])\n",
        "\n",
        "# Separate features and labels\n",
        "X = mail_data['Message']\n",
        "Y = mail_data['Category']\n",
        "print(X)\n",
        "print(Y)\n",
        "# Split data into training and testing sets\n",
        "X_train, X_test, Y_train, Y_test = train_test_split(X, Y, test_size=0.2, random_state=3, stratify=Y)\n",
        "\n",
        "# Feature extraction using TF-IDF with enhanced preprocessing\n",
        "vectorizer = TfidfVectorizer(\n",
        "    stop_words='english',\n",
        "    max_features=10000,  # Increase feature set\n",
        "    lowercase=True,\n",
        "    ngram_range=(1, 3),  # Use unigrams, bigrams, and trigrams\n",
        "    sublinear_tf=True  # Apply sublinear term frequency scaling\n",
        ")\n",
        "\n",
        "X_train_features = vectorizer.fit_transform(X_train)\n",
        "X_test_features = vectorizer.transform(X_test)\n",
        "\n",
        "# Convert Y_train and Y_test to integers\n",
        "Y_train = Y_train.astype(int)\n",
        "Y_test = Y_test.astype(int)\n",
        "\n",
        "# Handle class imbalance\n",
        "class_weights = compute_class_weight(class_weight='balanced', classes=np.unique(Y_train), y=Y_train)\n",
        "class_weight_dict = dict(enumerate(class_weights))\n",
        "\n",
        "# Train logistic regression with regularization and class weights\n",
        "model = LogisticRegression(\n",
        "    solver='liblinear',\n",
        "    penalty='l2',  # L2 regularization\n",
        "    class_weight=class_weight_dict,\n",
        "    C=1.0  # Adjust regularization strength\n",
        ")\n",
        "model.fit(X_train_features, Y_train)\n",
        "\n",
        "# Evaluate the model\n",
        "# Accuracy on training data\n",
        "train_predictions = model.predict(X_train_features)\n",
        "training_accuracy = accuracy_score(Y_train, train_predictions)\n",
        "print('Accuracy on training data:', training_accuracy)\n",
        "\n",
        "# Accuracy on test data\n",
        "test_predictions = model.predict(X_test_features)\n",
        "testing_accuracy = accuracy_score(Y_test, test_predictions)\n",
        "print('Accuracy on test data:', testing_accuracy)\n",
        "\n",
        "# Predictive system\n",
        "input_mail = [\"Hi, can we reschedule our meeting?\"]\n",
        "input_data_features = vectorizer.transform(input_mail)\n",
        "prediction = model.predict(input_data_features)\n",
        "\n",
        "if prediction[0] == 1:\n",
        "    print('Ham mail')\n",
        "else:\n",
        "    print('Spam mail')\n"
      ],
      "metadata": {
        "id": "NX3NjmCj8TBw",
        "outputId": "38d3dd94-4de0-4025-b17a-e0d9f50fa89b",
        "colab": {
          "base_uri": "https://localhost:8080/"
        }
      },
      "execution_count": 1,
      "outputs": [
        {
          "output_type": "stream",
          "name": "stdout",
          "text": [
            "0       Go until jurong point, crazy.. Available only ...\n",
            "1                           Ok lar... Joking wif u oni...\n",
            "2       Free entry in 2 a wkly comp to win FA Cup fina...\n",
            "3       U dun say so early hor... U c already then say...\n",
            "4       Nah I don't think he goes to usf, he lives aro...\n",
            "                              ...                        \n",
            "5583    This is the 2nd time we have tried 2 contact u...\n",
            "5584                Will Ã¼ b going to esplanade fr home?\n",
            "5585    Pity, * was in mood for that. So...any other s...\n",
            "5586    The guy did some bitching but I acted like i'd...\n",
            "5587                           Rofl. Its true to its name\n",
            "Name: Message, Length: 5587, dtype: object\n",
            "0       1.0\n",
            "1       1.0\n",
            "2       0.0\n",
            "3       1.0\n",
            "4       1.0\n",
            "       ... \n",
            "5583    0.0\n",
            "5584    1.0\n",
            "5585    1.0\n",
            "5586    1.0\n",
            "5587    1.0\n",
            "Name: Category, Length: 5587, dtype: float64\n",
            "Accuracy on training data: 0.9923920340120832\n",
            "Accuracy on test data: 0.9874776386404294\n",
            "Ham mail\n"
          ]
        }
      ]
    }
  ],
  "metadata": {
    "colab": {
      "provenance": []
    },
    "kernelspec": {
      "display_name": "Python 3",
      "name": "python3"
    }
  },
  "nbformat": 4,
  "nbformat_minor": 0
}